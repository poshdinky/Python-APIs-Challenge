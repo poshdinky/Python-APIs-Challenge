{
 "cells": [
  {
   "cell_type": "markdown",
   "id": "eaa57676",
   "metadata": {},
   "source": [
    "# The main goal is to locate cities with stereoptyically \"ideal\" weather, and a nearby hotel."
   ]
  },
  {
   "cell_type": "markdown",
   "id": "bb6ff7f4",
   "metadata": {},
   "source": [
    "# Import Important Libraries."
   ]
  },
  {
   "cell_type": "code",
   "execution_count": 26,
   "id": "8af74b39",
   "metadata": {},
   "outputs": [],
   "source": [
    "import matplotlib.pyplot as plt\n",
    "import pandas as pd\n",
    "import numpy as np\n",
    "import requests\n",
    "import gmaps\n",
    "import os\n",
    "import pathlib\n",
    "\n",
    "# Import API key\n",
    "from api_keys import google_map_key\n",
    "\n",
    "# To export our map to html format\n",
    "from ipywidgets.embed import embed_minimal_html"
   ]
  },
  {
   "cell_type": "markdown",
   "id": "671bb094",
   "metadata": {},
   "source": [
    "### Using os, pathlib to get the current file.\n",
    "\n",
    "\n",
    "### We will delete the element of the list that represents the current name file 'starter_code' and we will replace it ### by our output_data and Images"
   ]
  },
  {
   "cell_type": "code",
   "execution_count": 27,
   "id": "0daddbd6",
   "metadata": {},
   "outputs": [
    {
     "data": {
      "text/plain": [
       "WindowsPath('C:/Users/pc/Desktop/06-Python-APIs/Instructions/starter_code')"
      ]
     },
     "execution_count": 27,
     "metadata": {},
     "output_type": "execute_result"
    }
   ],
   "source": [
    "current_path = pathlib.Path().resolve()\n",
    "current_path"
   ]
  },
  {
   "cell_type": "markdown",
   "id": "6f00fe2d",
   "metadata": {},
   "source": [
    "#### We will split our current file to folder path and file which is the name of our current file\n",
    "\n",
    "#### Folder_path will help us to uplod our output CSV file and images to any path we want."
   ]
  },
  {
   "cell_type": "code",
   "execution_count": 29,
   "id": "daada21a",
   "metadata": {},
   "outputs": [
    {
     "data": {
      "text/plain": [
       "'C:\\\\Users\\\\pc\\\\Desktop\\\\06-Python-APIs\\\\Instructions'"
      ]
     },
     "execution_count": 29,
     "metadata": {},
     "output_type": "execute_result"
    }
   ],
   "source": [
    "folder_path, file = os.path.split(current_path)\n",
    "folder_path"
   ]
  },
  {
   "cell_type": "markdown",
   "id": "617018e5",
   "metadata": {},
   "source": [
    "### Store Part I results into DataFrame\n",
    "\n",
    "#### Load the csv exported in Part I to a DataFrame"
   ]
  },
  {
   "cell_type": "code",
   "execution_count": 36,
   "id": "a327611e",
   "metadata": {},
   "outputs": [
    {
     "data": {
      "text/html": [
       "<div>\n",
       "<style scoped>\n",
       "    .dataframe tbody tr th:only-of-type {\n",
       "        vertical-align: middle;\n",
       "    }\n",
       "\n",
       "    .dataframe tbody tr th {\n",
       "        vertical-align: top;\n",
       "    }\n",
       "\n",
       "    .dataframe thead th {\n",
       "        text-align: right;\n",
       "    }\n",
       "</style>\n",
       "<table border=\"1\" class=\"dataframe\">\n",
       "  <thead>\n",
       "    <tr style=\"text-align: right;\">\n",
       "      <th></th>\n",
       "      <th>clean_city_data</th>\n",
       "      <th>City</th>\n",
       "      <th>Latitude</th>\n",
       "      <th>Longitude</th>\n",
       "      <th>Max Temperature</th>\n",
       "      <th>Humidity</th>\n",
       "      <th>Cloudiness</th>\n",
       "      <th>Wind Speed</th>\n",
       "      <th>Country</th>\n",
       "      <th>Date</th>\n",
       "    </tr>\n",
       "  </thead>\n",
       "  <tbody>\n",
       "    <tr>\n",
       "      <th>562</th>\n",
       "      <td>562</td>\n",
       "      <td>Shymkent</td>\n",
       "      <td>42.3000</td>\n",
       "      <td>69.6000</td>\n",
       "      <td>300.48</td>\n",
       "      <td>24</td>\n",
       "      <td>75</td>\n",
       "      <td>6.00</td>\n",
       "      <td>KZ</td>\n",
       "      <td>1654961609</td>\n",
       "    </tr>\n",
       "    <tr>\n",
       "      <th>563</th>\n",
       "      <td>563</td>\n",
       "      <td>Walvis Bay</td>\n",
       "      <td>-22.9575</td>\n",
       "      <td>14.5053</td>\n",
       "      <td>302.68</td>\n",
       "      <td>23</td>\n",
       "      <td>0</td>\n",
       "      <td>3.60</td>\n",
       "      <td>NaN</td>\n",
       "      <td>1654961610</td>\n",
       "    </tr>\n",
       "    <tr>\n",
       "      <th>564</th>\n",
       "      <td>564</td>\n",
       "      <td>Krasnosel'kup</td>\n",
       "      <td>65.7000</td>\n",
       "      <td>82.4667</td>\n",
       "      <td>289.48</td>\n",
       "      <td>72</td>\n",
       "      <td>100</td>\n",
       "      <td>6.82</td>\n",
       "      <td>RU</td>\n",
       "      <td>1654961611</td>\n",
       "    </tr>\n",
       "    <tr>\n",
       "      <th>565</th>\n",
       "      <td>565</td>\n",
       "      <td>Soyo</td>\n",
       "      <td>-6.1349</td>\n",
       "      <td>12.3689</td>\n",
       "      <td>298.52</td>\n",
       "      <td>76</td>\n",
       "      <td>2</td>\n",
       "      <td>4.87</td>\n",
       "      <td>AO</td>\n",
       "      <td>1654961612</td>\n",
       "    </tr>\n",
       "    <tr>\n",
       "      <th>566</th>\n",
       "      <td>566</td>\n",
       "      <td>Mirny</td>\n",
       "      <td>62.5353</td>\n",
       "      <td>113.9611</td>\n",
       "      <td>279.95</td>\n",
       "      <td>81</td>\n",
       "      <td>83</td>\n",
       "      <td>3.13</td>\n",
       "      <td>RU</td>\n",
       "      <td>1654961612</td>\n",
       "    </tr>\n",
       "  </tbody>\n",
       "</table>\n",
       "</div>"
      ],
      "text/plain": [
       "     clean_city_data           City  Latitude  Longitude  Max Temperature  \\\n",
       "562              562       Shymkent   42.3000    69.6000           300.48   \n",
       "563              563     Walvis Bay  -22.9575    14.5053           302.68   \n",
       "564              564  Krasnosel'kup   65.7000    82.4667           289.48   \n",
       "565              565           Soyo   -6.1349    12.3689           298.52   \n",
       "566              566          Mirny   62.5353   113.9611           279.95   \n",
       "\n",
       "     Humidity  Cloudiness  Wind Speed Country        Date  \n",
       "562        24          75        6.00      KZ  1654961609  \n",
       "563        23           0        3.60     NaN  1654961610  \n",
       "564        72         100        6.82      RU  1654961611  \n",
       "565        76           2        4.87      AO  1654961612  \n",
       "566        81          83        3.13      RU  1654961612  "
      ]
     },
     "execution_count": 36,
     "metadata": {},
     "output_type": "execute_result"
    }
   ],
   "source": [
    "cities_weather_df = pd.read_csv(os.path.join(folder_path,'output_data','Clean_City_Data.csv'))\n",
    "\n",
    "cities_weather_df.tail()"
   ]
  },
  {
   "cell_type": "code",
   "execution_count": 37,
   "id": "5b049574",
   "metadata": {},
   "outputs": [
    {
     "data": {
      "text/plain": [
       "567"
      ]
     },
     "execution_count": 37,
     "metadata": {},
     "output_type": "execute_result"
    }
   ],
   "source": [
    "len(cities_weather_df)"
   ]
  },
  {
   "cell_type": "markdown",
   "id": "937957d0",
   "metadata": {},
   "source": [
    "### Clean our DataFrame if there's any non significant values can reduce the fiability of our Data"
   ]
  },
  {
   "cell_type": "code",
   "execution_count": 38,
   "id": "a37ec8d8",
   "metadata": {},
   "outputs": [],
   "source": [
    "cities_weather_df = cities_weather_df.dropna()"
   ]
  },
  {
   "cell_type": "markdown",
   "id": "42e21f52",
   "metadata": {},
   "source": [
    "## Humidity Heatmap\n",
    "#### . Configure gmaps.\n",
    "#### . Use the Lat and Lng as locations and Humidity as the weight.\n",
    "#### . Add Heatmap layer to map."
   ]
  },
  {
   "cell_type": "code",
   "execution_count": 39,
   "id": "28b4803c",
   "metadata": {},
   "outputs": [],
   "source": [
    "#the locations and weight for the map\n",
    "locations = cities_weather_df[ ['Latitude','Longitude'] ].astype(float)\n",
    "humidity_rate  = cities_weather_df['Humidity'].astype(float)"
   ]
  },
  {
   "cell_type": "code",
   "execution_count": 40,
   "id": "59d37358",
   "metadata": {},
   "outputs": [],
   "source": [
    "# Configure gmaps with API key\n",
    "gmaps.configure(api_key = google_map_key)"
   ]
  },
  {
   "cell_type": "code",
   "execution_count": 41,
   "id": "78100e7e",
   "metadata": {},
   "outputs": [],
   "source": [
    "# Create a poverty Heatmap layer\n",
    "fig = gmaps.figure(center=(48.0, 0.0), zoom_level=3)\n",
    "\n",
    "heat_layer = gmaps.heatmap_layer(locations, weights = humidity_rate, \n",
    "                                 dissipating = False, max_intensity = 150,\n",
    "                                 point_radius = 3, opacity = 1)\n",
    "fig.add_layer(heat_layer)"
   ]
  },
  {
   "cell_type": "markdown",
   "id": "041ccb8e",
   "metadata": {},
   "source": [
    "#### Show the Map Figure of our Locations"
   ]
  },
  {
   "cell_type": "code",
   "execution_count": 42,
   "id": "95db8694",
   "metadata": {},
   "outputs": [
    {
     "data": {
      "application/vnd.jupyter.widget-view+json": {
       "model_id": "23012eb105ce4d6a8fc2f6ed81d94492",
       "version_major": 2,
       "version_minor": 0
      },
      "text/plain": [
       "Figure(layout=FigureLayout(height='420px'))"
      ]
     },
     "metadata": {},
     "output_type": "display_data"
    }
   ],
   "source": [
    "fig"
   ]
  },
  {
   "cell_type": "markdown",
   "id": "f945c280",
   "metadata": {},
   "source": [
    "#### Save the Map figure as PNG"
   ]
  },
  {
   "cell_type": "markdown",
   "id": "c573b84c",
   "metadata": {},
   "source": [
    "#### At the moment, exporting maps that contain a directions layer to PNG is not supported (because html2canvas 0.4.1 doesn't support it)."
   ]
  },
  {
   "cell_type": "markdown",
   "id": "99a69459",
   "metadata": {},
   "source": [
    "## Solution to import the Map Image"
   ]
  },
  {
   "cell_type": "markdown",
   "id": "0a016d69",
   "metadata": {},
   "source": [
    "#### You can export maps to HTML using the infrastructure provided by ipywidgets. For instance, let’s export a simple map to HTML:"
   ]
  },
  {
   "cell_type": "code",
   "execution_count": 43,
   "id": "7ee67c96",
   "metadata": {},
   "outputs": [
    {
     "name": "stdout",
     "output_type": "stream",
     "text": [
      "Requirement already satisfied: ipywidgets in c:\\users\\pc\\anaconda3\\lib\\site-packages (7.6.5)\n",
      "Requirement already satisfied: widgetsnbextension~=3.5.0 in c:\\users\\pc\\anaconda3\\lib\\site-packages (from ipywidgets) (3.5.1)\n",
      "Requirement already satisfied: nbformat>=4.2.0 in c:\\users\\pc\\anaconda3\\lib\\site-packages (from ipywidgets) (5.1.3)\n",
      "Requirement already satisfied: ipython>=4.0.0 in c:\\users\\pc\\anaconda3\\lib\\site-packages (from ipywidgets) (8.3.0)\n",
      "Requirement already satisfied: ipykernel>=4.5.1 in c:\\users\\pc\\anaconda3\\lib\\site-packages (from ipywidgets) (6.9.1)\n",
      "Requirement already satisfied: jupyterlab-widgets>=1.0.0 in c:\\users\\pc\\anaconda3\\lib\\site-packages (from ipywidgets) (1.0.0)\n",
      "Requirement already satisfied: traitlets>=4.3.1 in c:\\users\\pc\\anaconda3\\lib\\site-packages (from ipywidgets) (5.1.0)\n",
      "Requirement already satisfied: ipython-genutils~=0.2.0 in c:\\users\\pc\\anaconda3\\lib\\site-packages (from ipywidgets) (0.2.0)\n",
      "Requirement already satisfied: matplotlib-inline<0.2.0,>=0.1.0 in c:\\users\\pc\\anaconda3\\lib\\site-packages (from ipykernel>=4.5.1->ipywidgets) (0.1.2)\n",
      "Requirement already satisfied: tornado<7.0,>=4.2 in c:\\users\\pc\\anaconda3\\lib\\site-packages (from ipykernel>=4.5.1->ipywidgets) (6.1)\n",
      "Requirement already satisfied: jupyter-client<8.0 in c:\\users\\pc\\anaconda3\\lib\\site-packages (from ipykernel>=4.5.1->ipywidgets) (6.1.12)\n",
      "Requirement already satisfied: nest-asyncio in c:\\users\\pc\\anaconda3\\lib\\site-packages (from ipykernel>=4.5.1->ipywidgets) (1.5.1)\n",
      "Requirement already satisfied: debugpy<2.0,>=1.0.0 in c:\\users\\pc\\anaconda3\\lib\\site-packages (from ipykernel>=4.5.1->ipywidgets) (1.4.1)\n",
      "Requirement already satisfied: decorator in c:\\users\\pc\\anaconda3\\lib\\site-packages (from ipython>=4.0.0->ipywidgets) (5.1.0)\n",
      "Requirement already satisfied: setuptools>=18.5 in c:\\users\\pc\\anaconda3\\lib\\site-packages (from ipython>=4.0.0->ipywidgets) (58.0.4)\n",
      "Requirement already satisfied: pygments>=2.4.0 in c:\\users\\pc\\anaconda3\\lib\\site-packages (from ipython>=4.0.0->ipywidgets) (2.10.0)\n",
      "Requirement already satisfied: prompt-toolkit!=3.0.0,!=3.0.1,<3.1.0,>=2.0.0 in c:\\users\\pc\\anaconda3\\lib\\site-packages (from ipython>=4.0.0->ipywidgets) (3.0.20)\n",
      "Requirement already satisfied: stack-data in c:\\users\\pc\\anaconda3\\lib\\site-packages (from ipython>=4.0.0->ipywidgets) (0.2.0)\n",
      "Requirement already satisfied: backcall in c:\\users\\pc\\anaconda3\\lib\\site-packages (from ipython>=4.0.0->ipywidgets) (0.2.0)\n",
      "Requirement already satisfied: jedi>=0.16 in c:\\users\\pc\\anaconda3\\lib\\site-packages (from ipython>=4.0.0->ipywidgets) (0.18.0)\n",
      "Requirement already satisfied: colorama in c:\\users\\pc\\anaconda3\\lib\\site-packages (from ipython>=4.0.0->ipywidgets) (0.4.4)\n",
      "Requirement already satisfied: pickleshare in c:\\users\\pc\\anaconda3\\lib\\site-packages (from ipython>=4.0.0->ipywidgets) (0.7.5)\n",
      "Requirement already satisfied: parso<0.9.0,>=0.8.0 in c:\\users\\pc\\anaconda3\\lib\\site-packages (from jedi>=0.16->ipython>=4.0.0->ipywidgets) (0.8.2)\n",
      "Requirement already satisfied: python-dateutil>=2.1 in c:\\users\\pc\\anaconda3\\lib\\site-packages (from jupyter-client<8.0->ipykernel>=4.5.1->ipywidgets) (2.8.2)\n",
      "Requirement already satisfied: pyzmq>=13 in c:\\users\\pc\\anaconda3\\lib\\site-packages (from jupyter-client<8.0->ipykernel>=4.5.1->ipywidgets) (22.2.1)\n",
      "Requirement already satisfied: jupyter-core>=4.6.0 in c:\\users\\pc\\anaconda3\\lib\\site-packages (from jupyter-client<8.0->ipykernel>=4.5.1->ipywidgets) (4.8.1)\n",
      "Requirement already satisfied: pywin32>=1.0 in c:\\users\\pc\\anaconda3\\lib\\site-packages (from jupyter-core>=4.6.0->jupyter-client<8.0->ipykernel>=4.5.1->ipywidgets) (228)\n",
      "Requirement already satisfied: jsonschema!=2.5.0,>=2.4 in c:\\users\\pc\\anaconda3\\lib\\site-packages (from nbformat>=4.2.0->ipywidgets) (3.2.0)\n",
      "Requirement already satisfied: pyrsistent>=0.14.0 in c:\\users\\pc\\anaconda3\\lib\\site-packages (from jsonschema!=2.5.0,>=2.4->nbformat>=4.2.0->ipywidgets) (0.18.0)\n",
      "Requirement already satisfied: attrs>=17.4.0 in c:\\users\\pc\\anaconda3\\lib\\site-packages (from jsonschema!=2.5.0,>=2.4->nbformat>=4.2.0->ipywidgets) (21.2.0)\n",
      "Requirement already satisfied: six>=1.11.0 in c:\\users\\pc\\anaconda3\\lib\\site-packages (from jsonschema!=2.5.0,>=2.4->nbformat>=4.2.0->ipywidgets) (1.16.0)\n",
      "Requirement already satisfied: wcwidth in c:\\users\\pc\\anaconda3\\lib\\site-packages (from prompt-toolkit!=3.0.0,!=3.0.1,<3.1.0,>=2.0.0->ipython>=4.0.0->ipywidgets) (0.2.5)\n",
      "Requirement already satisfied: notebook>=4.4.1 in c:\\users\\pc\\anaconda3\\lib\\site-packages (from widgetsnbextension~=3.5.0->ipywidgets) (6.4.5)\n",
      "Requirement already satisfied: Send2Trash>=1.5.0 in c:\\users\\pc\\anaconda3\\lib\\site-packages (from notebook>=4.4.1->widgetsnbextension~=3.5.0->ipywidgets) (1.8.0)\n",
      "Requirement already satisfied: prometheus-client in c:\\users\\pc\\anaconda3\\lib\\site-packages (from notebook>=4.4.1->widgetsnbextension~=3.5.0->ipywidgets) (0.11.0)\n",
      "Requirement already satisfied: jinja2 in c:\\users\\pc\\anaconda3\\lib\\site-packages (from notebook>=4.4.1->widgetsnbextension~=3.5.0->ipywidgets) (2.11.3)\n",
      "Requirement already satisfied: nbconvert in c:\\users\\pc\\anaconda3\\lib\\site-packages (from notebook>=4.4.1->widgetsnbextension~=3.5.0->ipywidgets) (6.1.0)\n",
      "Requirement already satisfied: terminado>=0.8.3 in c:\\users\\pc\\anaconda3\\lib\\site-packages (from notebook>=4.4.1->widgetsnbextension~=3.5.0->ipywidgets) (0.9.4)\n",
      "Requirement already satisfied: argon2-cffi in c:\\users\\pc\\anaconda3\\lib\\site-packages (from notebook>=4.4.1->widgetsnbextension~=3.5.0->ipywidgets) (20.1.0)\n",
      "Requirement already satisfied: pywinpty>=0.5 in c:\\users\\pc\\anaconda3\\lib\\site-packages (from terminado>=0.8.3->notebook>=4.4.1->widgetsnbextension~=3.5.0->ipywidgets) (0.5.7)\n",
      "Requirement already satisfied: cffi>=1.0.0 in c:\\users\\pc\\anaconda3\\lib\\site-packages (from argon2-cffi->notebook>=4.4.1->widgetsnbextension~=3.5.0->ipywidgets) (1.14.6)\n",
      "Requirement already satisfied: pycparser in c:\\users\\pc\\anaconda3\\lib\\site-packages (from cffi>=1.0.0->argon2-cffi->notebook>=4.4.1->widgetsnbextension~=3.5.0->ipywidgets) (2.20)\n",
      "Requirement already satisfied: MarkupSafe>=0.23 in c:\\users\\pc\\anaconda3\\lib\\site-packages (from jinja2->notebook>=4.4.1->widgetsnbextension~=3.5.0->ipywidgets) (1.1.1)\n",
      "Requirement already satisfied: entrypoints>=0.2.2 in c:\\users\\pc\\anaconda3\\lib\\site-packages (from nbconvert->notebook>=4.4.1->widgetsnbextension~=3.5.0->ipywidgets) (0.3)\n",
      "Requirement already satisfied: nbclient<0.6.0,>=0.5.0 in c:\\users\\pc\\anaconda3\\lib\\site-packages (from nbconvert->notebook>=4.4.1->widgetsnbextension~=3.5.0->ipywidgets) (0.5.3)\n",
      "Requirement already satisfied: pandocfilters>=1.4.1 in c:\\users\\pc\\anaconda3\\lib\\site-packages (from nbconvert->notebook>=4.4.1->widgetsnbextension~=3.5.0->ipywidgets) (1.4.3)\n",
      "Requirement already satisfied: defusedxml in c:\\users\\pc\\anaconda3\\lib\\site-packages (from nbconvert->notebook>=4.4.1->widgetsnbextension~=3.5.0->ipywidgets) (0.7.1)\n",
      "Requirement already satisfied: bleach in c:\\users\\pc\\anaconda3\\lib\\site-packages (from nbconvert->notebook>=4.4.1->widgetsnbextension~=3.5.0->ipywidgets) (4.0.0)\n",
      "Requirement already satisfied: mistune<2,>=0.8.1 in c:\\users\\pc\\anaconda3\\lib\\site-packages (from nbconvert->notebook>=4.4.1->widgetsnbextension~=3.5.0->ipywidgets) (0.8.4)\n",
      "Requirement already satisfied: testpath in c:\\users\\pc\\anaconda3\\lib\\site-packages (from nbconvert->notebook>=4.4.1->widgetsnbextension~=3.5.0->ipywidgets) (0.5.0)\n",
      "Requirement already satisfied: jupyterlab-pygments in c:\\users\\pc\\anaconda3\\lib\\site-packages (from nbconvert->notebook>=4.4.1->widgetsnbextension~=3.5.0->ipywidgets) (0.1.2)\n",
      "Requirement already satisfied: async-generator in c:\\users\\pc\\anaconda3\\lib\\site-packages (from nbclient<0.6.0,>=0.5.0->nbconvert->notebook>=4.4.1->widgetsnbextension~=3.5.0->ipywidgets) (1.10)\n",
      "Requirement already satisfied: webencodings in c:\\users\\pc\\anaconda3\\lib\\site-packages (from bleach->nbconvert->notebook>=4.4.1->widgetsnbextension~=3.5.0->ipywidgets) (0.5.1)\n",
      "Requirement already satisfied: packaging in c:\\users\\pc\\anaconda3\\lib\\site-packages (from bleach->nbconvert->notebook>=4.4.1->widgetsnbextension~=3.5.0->ipywidgets) (21.0)\n",
      "Requirement already satisfied: pyparsing>=2.0.2 in c:\\users\\pc\\anaconda3\\lib\\site-packages (from packaging->bleach->nbconvert->notebook>=4.4.1->widgetsnbextension~=3.5.0->ipywidgets) (3.0.4)\n",
      "Requirement already satisfied: executing in c:\\users\\pc\\anaconda3\\lib\\site-packages (from stack-data->ipython>=4.0.0->ipywidgets) (0.8.3)\n",
      "Requirement already satisfied: asttokens in c:\\users\\pc\\anaconda3\\lib\\site-packages (from stack-data->ipython>=4.0.0->ipywidgets) (2.0.5)\n",
      "Requirement already satisfied: pure-eval in c:\\users\\pc\\anaconda3\\lib\\site-packages (from stack-data->ipython>=4.0.0->ipywidgets) (0.2.2)\n"
     ]
    }
   ],
   "source": [
    "!pip install ipywidgets"
   ]
  },
  {
   "cell_type": "code",
   "execution_count": 47,
   "id": "48306771",
   "metadata": {},
   "outputs": [],
   "source": [
    "embed_minimal_html(os.path.join(folder_path,'Images','heat_map.html'), views=[fig])"
   ]
  },
  {
   "cell_type": "markdown",
   "id": "cfbeddf7",
   "metadata": {},
   "source": [
    "## Create new DataFrame fitting weather criteria\n",
    "#### Narrow down the cities to fit weather conditions.\n",
    "#### Drop any rows will null values."
   ]
  },
  {
   "cell_type": "code",
   "execution_count": 48,
   "id": "b29a9f18",
   "metadata": {},
   "outputs": [],
   "source": [
    "# Filter and Copy the DataFrame\n",
    "#use loc statements to narrow down the resulys\n",
    "\n",
    "vacation_cities = cities_weather_df.loc[\n",
    "                (cities_weather_df['Max Temperature'] < 80) & (cities_weather_df['Max Temperature'] > 70) &\n",
    "                (cities_weather_df['Wind Speed'] < 10) & (cities_weather_df['Cloudiness'] == 0)\n",
    "                ] "
   ]
  },
  {
   "cell_type": "code",
   "execution_count": 49,
   "id": "9f99797f",
   "metadata": {},
   "outputs": [
    {
     "data": {
      "text/html": [
       "<div>\n",
       "<style scoped>\n",
       "    .dataframe tbody tr th:only-of-type {\n",
       "        vertical-align: middle;\n",
       "    }\n",
       "\n",
       "    .dataframe tbody tr th {\n",
       "        vertical-align: top;\n",
       "    }\n",
       "\n",
       "    .dataframe thead th {\n",
       "        text-align: right;\n",
       "    }\n",
       "</style>\n",
       "<table border=\"1\" class=\"dataframe\">\n",
       "  <thead>\n",
       "    <tr style=\"text-align: right;\">\n",
       "      <th></th>\n",
       "      <th>clean_city_data</th>\n",
       "      <th>City</th>\n",
       "      <th>Latitude</th>\n",
       "      <th>Longitude</th>\n",
       "      <th>Max Temperature</th>\n",
       "      <th>Humidity</th>\n",
       "      <th>Cloudiness</th>\n",
       "      <th>Wind Speed</th>\n",
       "      <th>Country</th>\n",
       "      <th>Date</th>\n",
       "    </tr>\n",
       "  </thead>\n",
       "  <tbody>\n",
       "  </tbody>\n",
       "</table>\n",
       "</div>"
      ],
      "text/plain": [
       "Empty DataFrame\n",
       "Columns: [clean_city_data, City, Latitude, Longitude, Max Temperature, Humidity, Cloudiness, Wind Speed, Country, Date]\n",
       "Index: []"
      ]
     },
     "execution_count": 49,
     "metadata": {},
     "output_type": "execute_result"
    }
   ],
   "source": [
    "vacation_cities.head()"
   ]
  },
  {
   "cell_type": "markdown",
   "id": "46a62fe0",
   "metadata": {},
   "source": [
    "## Hotel Map\n",
    "#### Store into variable named hotel_df.\n",
    "#### Add a \"Hotel Name\" column to the DataFrame.\n",
    "#### Set parameters to search for hotels with 5000 meters.\n",
    "#### Hit the Google Places API for each city's coordinates.\n",
    "#### Store the first Hotel result into the DataFrame.\n",
    "#### Plot markers on top of the heatmap."
   ]
  },
  {
   "cell_type": "code",
   "execution_count": 50,
   "id": "0a188621",
   "metadata": {},
   "outputs": [
    {
     "data": {
      "text/html": [
       "<div>\n",
       "<style scoped>\n",
       "    .dataframe tbody tr th:only-of-type {\n",
       "        vertical-align: middle;\n",
       "    }\n",
       "\n",
       "    .dataframe tbody tr th {\n",
       "        vertical-align: top;\n",
       "    }\n",
       "\n",
       "    .dataframe thead th {\n",
       "        text-align: right;\n",
       "    }\n",
       "</style>\n",
       "<table border=\"1\" class=\"dataframe\">\n",
       "  <thead>\n",
       "    <tr style=\"text-align: right;\">\n",
       "      <th></th>\n",
       "      <th>clean_city_data</th>\n",
       "      <th>City</th>\n",
       "      <th>Latitude</th>\n",
       "      <th>Longitude</th>\n",
       "      <th>Max Temperature</th>\n",
       "      <th>Humidity</th>\n",
       "      <th>Cloudiness</th>\n",
       "      <th>Wind Speed</th>\n",
       "      <th>Country</th>\n",
       "      <th>Date</th>\n",
       "    </tr>\n",
       "  </thead>\n",
       "  <tbody>\n",
       "  </tbody>\n",
       "</table>\n",
       "</div>"
      ],
      "text/plain": [
       "Empty DataFrame\n",
       "Columns: [clean_city_data, City, Latitude, Longitude, Max Temperature, Humidity, Cloudiness, Wind Speed, Country, Date]\n",
       "Index: []"
      ]
     },
     "execution_count": 50,
     "metadata": {},
     "output_type": "execute_result"
    }
   ],
   "source": [
    "#Store into variable named hotel_df.\n",
    "hotel_df = vacation_cities.copy()\n",
    "\n",
    "hotel_df.head()"
   ]
  },
  {
   "cell_type": "code",
   "execution_count": 51,
   "id": "ba82c13f",
   "metadata": {},
   "outputs": [],
   "source": [
    "#Add a \"Hotel Name\" column to the DataFrame.\n",
    "\n",
    "hotel_df[\"Hotel Name\"] = \"\""
   ]
  },
  {
   "cell_type": "code",
   "execution_count": 52,
   "id": "16988f63",
   "metadata": {},
   "outputs": [
    {
     "data": {
      "text/html": [
       "<div>\n",
       "<style scoped>\n",
       "    .dataframe tbody tr th:only-of-type {\n",
       "        vertical-align: middle;\n",
       "    }\n",
       "\n",
       "    .dataframe tbody tr th {\n",
       "        vertical-align: top;\n",
       "    }\n",
       "\n",
       "    .dataframe thead th {\n",
       "        text-align: right;\n",
       "    }\n",
       "</style>\n",
       "<table border=\"1\" class=\"dataframe\">\n",
       "  <thead>\n",
       "    <tr style=\"text-align: right;\">\n",
       "      <th></th>\n",
       "      <th>clean_city_data</th>\n",
       "      <th>City</th>\n",
       "      <th>Latitude</th>\n",
       "      <th>Longitude</th>\n",
       "      <th>Max Temperature</th>\n",
       "      <th>Humidity</th>\n",
       "      <th>Cloudiness</th>\n",
       "      <th>Wind Speed</th>\n",
       "      <th>Country</th>\n",
       "      <th>Date</th>\n",
       "      <th>Hotel Name</th>\n",
       "    </tr>\n",
       "  </thead>\n",
       "  <tbody>\n",
       "  </tbody>\n",
       "</table>\n",
       "</div>"
      ],
      "text/plain": [
       "Empty DataFrame\n",
       "Columns: [clean_city_data, City, Latitude, Longitude, Max Temperature, Humidity, Cloudiness, Wind Speed, Country, Date, Hotel Name]\n",
       "Index: []"
      ]
     },
     "execution_count": 52,
     "metadata": {},
     "output_type": "execute_result"
    }
   ],
   "source": [
    "hotel_df.head()"
   ]
  },
  {
   "cell_type": "code",
   "execution_count": 53,
   "id": "7fb0805a",
   "metadata": {},
   "outputs": [],
   "source": [
    "radius = 5000\n",
    "gtype = \"hotels\"\n",
    "\n",
    "base_url = \"https://maps.googleapis.com/maps/api/place/nearbysearch/json\"\n",
    "\n",
    "params = {\"radius\":radius, \"types\": gtype, \"key\":google_map_key}\n",
    "\n",
    "for index, row in hotel_df.iterrows():\n",
    "    city = row['City']\n",
    "    latitude = row['Latitude']\n",
    "    longitude = row['Longitude']\n",
    "\n",
    "    location = row[[\"Latitude\", \"Longitude\"]].values\n",
    "    \n",
    "    params[\"location\"]= f'{location[0]},{location[1]}'\n",
    "    \n",
    "    query_url = requests.get(base_url, params=params).json()\n",
    "    results = query_url['results']\n",
    "    \n",
    "    try:\n",
    "        hotelname = results[0]['name']\n",
    "        hotel_df.loc[index, \"Hotel Name\"] = hotelname\n",
    "        print(f\"Closest hotel to {city} at {latitude} , {longitude} is {hotelname}.\")\n",
    "    except (KeyError, IndexError):\n",
    "        print(\"There is a missing field. Moving past.....\")"
   ]
  },
  {
   "cell_type": "code",
   "execution_count": 54,
   "id": "e357297f",
   "metadata": {},
   "outputs": [
    {
     "data": {
      "text/html": [
       "<div>\n",
       "<style scoped>\n",
       "    .dataframe tbody tr th:only-of-type {\n",
       "        vertical-align: middle;\n",
       "    }\n",
       "\n",
       "    .dataframe tbody tr th {\n",
       "        vertical-align: top;\n",
       "    }\n",
       "\n",
       "    .dataframe thead th {\n",
       "        text-align: right;\n",
       "    }\n",
       "</style>\n",
       "<table border=\"1\" class=\"dataframe\">\n",
       "  <thead>\n",
       "    <tr style=\"text-align: right;\">\n",
       "      <th></th>\n",
       "      <th>clean_city_data</th>\n",
       "      <th>City</th>\n",
       "      <th>Latitude</th>\n",
       "      <th>Longitude</th>\n",
       "      <th>Max Temperature</th>\n",
       "      <th>Humidity</th>\n",
       "      <th>Cloudiness</th>\n",
       "      <th>Wind Speed</th>\n",
       "      <th>Country</th>\n",
       "      <th>Date</th>\n",
       "      <th>Hotel Name</th>\n",
       "    </tr>\n",
       "  </thead>\n",
       "  <tbody>\n",
       "  </tbody>\n",
       "</table>\n",
       "</div>"
      ],
      "text/plain": [
       "Empty DataFrame\n",
       "Columns: [clean_city_data, City, Latitude, Longitude, Max Temperature, Humidity, Cloudiness, Wind Speed, Country, Date, Hotel Name]\n",
       "Index: []"
      ]
     },
     "execution_count": 54,
     "metadata": {},
     "output_type": "execute_result"
    }
   ],
   "source": [
    "#check if the hotels got added\n",
    "hotel_df.head()"
   ]
  },
  {
   "cell_type": "code",
   "execution_count": 55,
   "id": "504fadb6",
   "metadata": {},
   "outputs": [],
   "source": [
    "# Get all The Hotel names that are not empty\n",
    "#hotel_df=hotel_df[hotel_df[\"Hotel Name\"]!= \"\"] "
   ]
  },
  {
   "cell_type": "code",
   "execution_count": 56,
   "id": "6b608e33",
   "metadata": {},
   "outputs": [],
   "source": [
    "# NOTE: Do not change any of the code in this cell\n",
    "\n",
    "# Using the template add the hotel marks to the heatmap\n",
    "info_box_template = \"\"\"\n",
    "<dl>\n",
    "<dt>Name</dt><dd>{Hotel Name}</dd>\n",
    "<dt>City</dt><dd>{City}</dd>\n",
    "<dt>Country</dt><dd>{Country}</dd>\n",
    "</dl>\n",
    "\"\"\""
   ]
  },
  {
   "cell_type": "code",
   "execution_count": 57,
   "id": "c79ffe57",
   "metadata": {},
   "outputs": [],
   "source": [
    "# Store the DataFrame Row\n",
    "# NOTE: be sure to update with your DataFrame name\n",
    "hotel_info = [info_box_template.format(**row) for index, row in hotel_df.iterrows()]\n",
    "locations_2 = hotel_df[[\"Latitude\", \"Longitude\"]]"
   ]
  },
  {
   "cell_type": "code",
   "execution_count": 58,
   "id": "86a0852c",
   "metadata": {},
   "outputs": [],
   "source": [
    "fig_markers_layer = gmaps.figure(center=(48.0, 0.0), zoom_level=2)\n",
    "\n",
    "marker_layer = gmaps.marker_layer(locations_2, hover_text='', label='', info_box_content = hotel_info)\n",
    "\n",
    "fig_markers_layer.add_layer(marker_layer)"
   ]
  },
  {
   "cell_type": "code",
   "execution_count": 59,
   "id": "3e04b948",
   "metadata": {},
   "outputs": [
    {
     "data": {
      "application/vnd.jupyter.widget-view+json": {
       "model_id": "7a356477c83245d9a2b13548f339eee6",
       "version_major": 2,
       "version_minor": 0
      },
      "text/plain": [
       "Figure(layout=FigureLayout(height='420px'))"
      ]
     },
     "metadata": {},
     "output_type": "display_data"
    }
   ],
   "source": [
    "# Display figure\n",
    "fig_markers_layer"
   ]
  },
  {
   "cell_type": "code",
   "execution_count": 60,
   "id": "f2cffb46",
   "metadata": {},
   "outputs": [],
   "source": [
    "embed_minimal_html(os.path.join(folder_path,'Images','hotel_map.html'), views=[fig_markers_layer])"
   ]
  },
  {
   "cell_type": "code",
   "execution_count": null,
   "id": "570a862d",
   "metadata": {},
   "outputs": [],
   "source": []
  }
 ],
 "metadata": {
  "kernelspec": {
   "display_name": "Python 3 (ipykernel)",
   "language": "python",
   "name": "python3"
  },
  "language_info": {
   "codemirror_mode": {
    "name": "ipython",
    "version": 3
   },
   "file_extension": ".py",
   "mimetype": "text/x-python",
   "name": "python",
   "nbconvert_exporter": "python",
   "pygments_lexer": "ipython3",
   "version": "3.9.7"
  }
 },
 "nbformat": 4,
 "nbformat_minor": 5
}
